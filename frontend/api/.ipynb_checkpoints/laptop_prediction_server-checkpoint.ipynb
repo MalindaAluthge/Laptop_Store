{
 "cells": [
  {
   "cell_type": "code",
   "execution_count": null,
   "id": "0afce7d3",
   "metadata": {},
   "outputs": [
    {
     "name": "stdout",
     "output_type": "stream",
     "text": [
      " * Serving Flask app \"__main__\" (lazy loading)\n",
      " * Environment: production\n",
      "\u001b[31m   WARNING: This is a development server. Do not use it in a production deployment.\u001b[0m\n",
      "\u001b[2m   Use a production WSGI server instead.\u001b[0m\n",
      " * Debug mode: off\n"
     ]
    },
    {
     "name": "stderr",
     "output_type": "stream",
     "text": [
      "/Users/macbookair/opt/anaconda3/lib/python3.9/site-packages/sklearn/base.py:329: UserWarning: Trying to unpickle estimator DecisionTreeRegressor from version 1.2.2 when using version 1.0.2. This might lead to breaking code or invalid results. Use at your own risk. For more info please refer to:\n",
      "https://scikit-learn.org/stable/modules/model_persistence.html#security-maintainability-limitations\n",
      "  warnings.warn(\n",
      "/Users/macbookair/opt/anaconda3/lib/python3.9/site-packages/sklearn/base.py:329: UserWarning: Trying to unpickle estimator RandomForestRegressor from version 1.2.2 when using version 1.0.2. This might lead to breaking code or invalid results. Use at your own risk. For more info please refer to:\n",
      "https://scikit-learn.org/stable/modules/model_persistence.html#security-maintainability-limitations\n",
      "  warnings.warn(\n",
      " * Running on http://127.0.0.1:5010/ (Press CTRL+C to quit)\n",
      "/Users/macbookair/opt/anaconda3/lib/python3.9/site-packages/sklearn/base.py:450: UserWarning: X does not have valid feature names, but RandomForestRegressor was fitted with feature names\n",
      "  warnings.warn(\n",
      "[2023-05-03 20:20:50,825] ERROR in app: Exception on /predict [POST]\n",
      "Traceback (most recent call last):\n",
      "  File \"/Users/macbookair/opt/anaconda3/lib/python3.9/site-packages/flask/app.py\", line 2447, in wsgi_app\n",
      "    response = self.full_dispatch_request()\n",
      "  File \"/Users/macbookair/opt/anaconda3/lib/python3.9/site-packages/flask/app.py\", line 1952, in full_dispatch_request\n",
      "    rv = self.handle_user_exception(e)\n",
      "  File \"/Users/macbookair/opt/anaconda3/lib/python3.9/site-packages/flask_cors/extension.py\", line 165, in wrapped_function\n",
      "    return cors_after_request(app.make_response(f(*args, **kwargs)))\n",
      "  File \"/Users/macbookair/opt/anaconda3/lib/python3.9/site-packages/flask/app.py\", line 1821, in handle_user_exception\n",
      "    reraise(exc_type, exc_value, tb)\n",
      "  File \"/Users/macbookair/opt/anaconda3/lib/python3.9/site-packages/flask/_compat.py\", line 39, in reraise\n",
      "    raise value\n",
      "  File \"/Users/macbookair/opt/anaconda3/lib/python3.9/site-packages/flask/app.py\", line 1950, in full_dispatch_request\n",
      "    rv = self.dispatch_request()\n",
      "  File \"/Users/macbookair/opt/anaconda3/lib/python3.9/site-packages/flask/app.py\", line 1936, in dispatch_request\n",
      "    return self.view_functions[rule.endpoint](**req.view_args)\n",
      "  File \"/var/folders/bk/whp9qcjn12x86839qvgd0t900000gn/T/ipykernel_30484/898602899.py\", line 27, in predict\n",
      "    return jsonify(data[0])\n",
      "KeyError: 0\n",
      "127.0.0.1 - - [03/May/2023 20:20:50] \"POST /predict HTTP/1.1\" 500 -\n"
     ]
    },
    {
     "name": "stdout",
     "output_type": "stream",
     "text": [
      "[1275.1923]\n"
     ]
    }
   ],
   "source": [
    "import numpy as np\n",
    "import pickle\n",
    "from flask import Flask, request, jsonify\n",
    "from flask_cors import CORS\n",
    "\n",
    "app = Flask(__name__)\n",
    "cors = CORS(app, resources={r\"/predict\": {\"origins\": \"*\"}})\n",
    "app.config['CORS_HEADERS'] = 'Content-Type'\n",
    "\n",
    "model = pickle.load(open('predictor.pickle', 'rb'))\n",
    "\n",
    "\n",
    "@app.route('/predict', methods=['POST'])\n",
    "def predict():\n",
    "    data = request.get_json(force=True)\n",
    "    input_data = [data[\"ram\"], data['weight'], data['touch'],\n",
    "                  data['ips'], data['c_acer'],  data['c_apple'],  data['c_asus'],  data['c_dell'],\n",
    "                   data['c_hp'],  data['c_lenovo'],  data['c_msi'],  data['c_other'],  data['c_toshiba'],\n",
    "                   data['type_2in1'],  data['type_gaming'],  data['type_netbook'],  data['type_notebook'],  data['type_ultrabook'],\n",
    "                   data['type_workstation'],  data['os_linux'],  data['os_mac'],  data['os_other'],  data['os_windows'],\n",
    "                  data['cpu_amd'], data['cpu_intelcorei3'], data['cpu_intelcorei5'], data['cpu_intelcorei7'], data['cpu_other'], \n",
    "                 data['gpu_amd'],data['gpu_intel'],data['gpu_nvidia']]\n",
    "    _input = [np.array(input_data)]\n",
    "    predict = model.predict(_input)\n",
    "    print(predict)\n",
    "    data = {'data': predict.tolist()}\n",
    "    return jsonify(data)\n",
    "\n",
    "\n",
    "if __name__ == \"__main__\":\n",
    "    app.run(port=5010)"
   ]
  },
  {
   "cell_type": "code",
   "execution_count": null,
   "id": "c28e4bac",
   "metadata": {},
   "outputs": [],
   "source": []
  }
 ],
 "metadata": {
  "kernelspec": {
   "display_name": "Python 3 (ipykernel)",
   "language": "python",
   "name": "python3"
  },
  "language_info": {
   "codemirror_mode": {
    "name": "ipython",
    "version": 3
   },
   "file_extension": ".py",
   "mimetype": "text/x-python",
   "name": "python",
   "nbconvert_exporter": "python",
   "pygments_lexer": "ipython3",
   "version": "3.9.13"
  }
 },
 "nbformat": 4,
 "nbformat_minor": 5
}
