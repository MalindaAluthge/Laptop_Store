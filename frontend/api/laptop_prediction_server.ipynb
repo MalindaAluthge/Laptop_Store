{
 "cells": [
  {
   "cell_type": "code",
   "execution_count": null,
   "id": "0afce7d3",
   "metadata": {},
   "outputs": [
    {
     "name": "stdout",
     "output_type": "stream",
     "text": [
      " * Serving Flask app \"__main__\" (lazy loading)\n",
      " * Environment: production\n",
      "\u001b[31m   WARNING: This is a development server. Do not use it in a production deployment.\u001b[0m\n",
      "\u001b[2m   Use a production WSGI server instead.\u001b[0m\n",
      " * Debug mode: off\n"
     ]
    },
    {
     "name": "stderr",
     "output_type": "stream",
     "text": [
      "C:\\Users\\malin\\anaconda3\\lib\\site-packages\\sklearn\\base.py:329: UserWarning: Trying to unpickle estimator DecisionTreeRegressor from version 1.2.2 when using version 1.0.2. This might lead to breaking code or invalid results. Use at your own risk. For more info please refer to:\n",
      "https://scikit-learn.org/stable/modules/model_persistence.html#security-maintainability-limitations\n",
      "  warnings.warn(\n",
      "C:\\Users\\malin\\anaconda3\\lib\\site-packages\\sklearn\\base.py:329: UserWarning: Trying to unpickle estimator RandomForestRegressor from version 1.2.2 when using version 1.0.2. This might lead to breaking code or invalid results. Use at your own risk. For more info please refer to:\n",
      "https://scikit-learn.org/stable/modules/model_persistence.html#security-maintainability-limitations\n",
      "  warnings.warn(\n",
      " * Running on http://127.0.0.1:5010/ (Press CTRL+C to quit)\n",
      "127.0.0.1 - - [04/May/2023 19:47:02] \"OPTIONS /predict HTTP/1.1\" 200 -\n",
      "C:\\Users\\malin\\anaconda3\\lib\\site-packages\\sklearn\\base.py:450: UserWarning: X does not have valid feature names, but RandomForestRegressor was fitted with feature names\n",
      "  warnings.warn(\n",
      "127.0.0.1 - - [04/May/2023 19:47:03] \"POST /predict HTTP/1.1\" 200 -\n"
     ]
    },
    {
     "name": "stdout",
     "output_type": "stream",
     "text": [
      "[1277.3417]\n"
     ]
    }
   ],
   "source": [
    "import numpy as np\n",
    "import pickle\n",
    "from flask import Flask, request, jsonify\n",
    "from flask_cors import CORS\n",
    "\n",
    "app = Flask(__name__)\n",
    "cors = CORS(app, resources={r\"/predict\": {\"origins\": \"*\"}})\n",
    "app.config['CORS_HEADERS'] = 'Content-Type'\n",
    "\n",
    "model = pickle.load(open('predictor.pickle', 'rb'))\n",
    "\n",
    "\n",
    "@app.route('/predict', methods=['POST'])\n",
    "def predict():\n",
    "    data = request.get_json(force=True)\n",
    "    input_data = [data[\"ram\"], data['weight'], data['touch'],\n",
    "                  data['ips'], data['c_acer'],  data['c_apple'],  data['c_asus'],  data['c_dell'],\n",
    "                   data['c_hp'],  data['c_lenovo'],  data['c_msi'],  data['c_other'],  data['c_toshiba'],\n",
    "                   data['type_2in1'],  data['type_gaming'],  data['type_netbook'],  data['type_notebook'],  data['type_ultrabook'],\n",
    "                   data['type_workstation'],  data['os_linux'],  data['os_mac'],  data['os_other'],  data['os_windows'],\n",
    "                  data['cpu_amd'], data['cpu_intelcorei3'], data['cpu_intelcorei5'], data['cpu_intelcorei7'], data['cpu_other'], \n",
    "                 data['gpu_amd'],data['gpu_intel'],data['gpu_nvidia']]\n",
    "    _input = [np.array(input_data)]\n",
    "    predict = model.predict(_input)\n",
    "    print(predict)\n",
    "    data = {'data': predict.tolist()}\n",
    "    return jsonify(data)\n",
    "\n",
    "\n",
    "if __name__ == \"__main__\":\n",
    "    app.run(port=5010)"
   ]
  },
  {
   "cell_type": "code",
   "execution_count": null,
   "id": "cdb84704",
   "metadata": {},
   "outputs": [],
   "source": []
  }
 ],
 "metadata": {
  "kernelspec": {
   "display_name": "Python 3 (ipykernel)",
   "language": "python",
   "name": "python3"
  },
  "language_info": {
   "codemirror_mode": {
    "name": "ipython",
    "version": 3
   },
   "file_extension": ".py",
   "mimetype": "text/x-python",
   "name": "python",
   "nbconvert_exporter": "python",
   "pygments_lexer": "ipython3",
   "version": "3.9.13"
  }
 },
 "nbformat": 4,
 "nbformat_minor": 5
}
